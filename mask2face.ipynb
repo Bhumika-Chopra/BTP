{
 "cells": [
  {
   "cell_type": "markdown",
   "metadata": {},
   "source": [
    "# Mask2Face\n",
    "This notebook will guide you through all the steps described in this article (**TODO: Add link to article**) to build and train your ML model for removing the face mask of the person's face.\n",
    "\n",
    "**TODO: Add pipeline image**\n",
    "\n",
    "## 1) Preconditions\n",
    "First we need a dataset of human faces with landmark points."
   ]
  },
  {
   "cell_type": "code",
   "execution_count": 11,
   "metadata": {},
   "outputs": [
    {
     "name": "stdout",
     "output_type": "stream",
     "text": [
      "Dataset already downloaded\n"
     ]
    }
   ],
   "source": [
    "# Check if dataset is already downloaded or needs to be downloaded.\n",
    "import os\n",
    "if os.path.isdir('data/lfpw') and os.path.isfile('data/lfpw/trainset/image_0001.png'):\n",
    "    print('Dataset already downloaded')\n",
    "else:\n",
    "    print('Downloading dataset')\n",
    "    # TODO add wget with link to dataset and download it"
   ]
  },
  {
   "cell_type": "markdown",
   "metadata": {},
   "source": [
    "## 2) Data generation\n",
    "Next step is to generate data for neural network training. We need input images (person with a face mask) and corresponding output image (the same image as input but without the face mask). We already have output images in downloaded dataset. Input images will be created by adding mask on the faces with a help from [MaskTheFace GitHub](https://github.com/aqeelanwar/MaskTheFace) project."
   ]
  },
  {
   "cell_type": "code",
   "execution_count": 2,
   "metadata": {},
   "outputs": [],
   "source": [
    "# Load images and create a training and testing dataset\n",
    "# Create mask generator instance (show possible parametrization)\n",
    "# Show output of dataset with some different parametrization"
   ]
  },
  {
   "cell_type": "markdown",
   "metadata": {},
   "source": [
    "## 3) Model training\n",
    "Now we have all tha data and so we can initiate model and start training."
   ]
  },
  {
   "cell_type": "code",
   "execution_count": 4,
   "metadata": {},
   "outputs": [],
   "source": [
    "# Import model\n",
    "from utils.architectures import UNet\n",
    "from utils.model import Mask2FaceModel"
   ]
  },
  {
   "cell_type": "code",
   "execution_count": null,
   "metadata": {},
   "outputs": [],
   "source": [
    "# Feel free to experiment with the number of filters, their sizes or any other parameters\n",
    "filters = (256, 256, 128, 128, 64, 64, 32, 16)\n",
    "architecture = UNet.RESNET\n",
    "training_epochs = 20\n",
    "batch_size = 12"
   ]
  },
  {
   "cell_type": "code",
   "execution_count": null,
   "metadata": {},
   "outputs": [],
   "source": [
    "# Create instance of model and start trainig\n",
    "# TODO: Think about CPU training if GPU is not detected or at least write that you need GPU\n",
    "model = Mask2FaceModel(arch=architecture, filters=filters)\n",
    "model.summary()\n",
    "model.train(epochs=training_epochs, batch_size=batch_size, loss_function='ssim_loss')"
   ]
  },
  {
   "cell_type": "markdown",
   "metadata": {},
   "source": [
    "## 4) Results\n",
    "Our model is trained and we can look at it's performance"
   ]
  },
  {
   "cell_type": "code",
   "execution_count": 7,
   "metadata": {},
   "outputs": [],
   "source": [
    "# Import helper functions\n",
    "from utils.plot import plot_triple"
   ]
  },
  {
   "cell_type": "code",
   "execution_count": 10,
   "metadata": {},
   "outputs": [],
   "source": [
    "# Let's see the results on a random testing image unseen by the model before.\n",
    "# Run this cell multiple times to see different results\n",
    "input_img, true_output_img = test_dataset.get_random_input()\n",
    "generated_output_img = model.predict(input_img)\n",
    "plot_triple(input_img, true_output_img, generated_output_img)"
   ]
  },
  {
   "cell_type": "markdown",
   "metadata": {},
   "source": [
    "**TODO: If the model is good enough for it, add functions to use any image**"
   ]
  },
  {
   "cell_type": "code",
   "execution_count": null,
   "metadata": {},
   "outputs": [],
   "source": [
    "# Load image\n",
    "# Run prediction and save the result\n",
    "# Also show result here"
   ]
  }
 ],
 "metadata": {
  "kernelspec": {
   "display_name": "Python 3",
   "language": "python",
   "name": "python3"
  },
  "language_info": {
   "codemirror_mode": {
    "name": "ipython",
    "version": 3
   },
   "file_extension": ".py",
   "mimetype": "text/x-python",
   "name": "python",
   "nbconvert_exporter": "python",
   "pygments_lexer": "ipython3",
   "version": "3.7.9"
  }
 },
 "nbformat": 4,
 "nbformat_minor": 4
}
